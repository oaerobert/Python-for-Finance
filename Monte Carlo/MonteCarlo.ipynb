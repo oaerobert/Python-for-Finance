{
 "cells": [
  {
   "cell_type": "markdown",
   "id": "9cf64a33-b3ff-495b-b8ec-3511e36f39ef",
   "metadata": {},
   "source": [
    "Hey!\n",
    "Here, we are defining the Python libraries used within this code. We are using NumPy for the mathematical operations."
   ]
  },
  {
   "cell_type": "code",
   "execution_count": 1,
   "id": "70230bc8-280d-47fe-a41f-9a64cdb5fa53",
   "metadata": {},
   "outputs": [],
   "source": [
    "import numpy as np"
   ]
  },
  {
   "cell_type": "markdown",
   "id": "4d931678-10b5-4be9-ba21-dfe4c80cca81",
   "metadata": {},
   "source": [
    "Next, we want to input the variables of the Monte Carlo simulation:"
   ]
  },
  {
   "cell_type": "markdown",
   "id": "f79cb7aa-49db-438b-b5f8-1ee44deed413",
   "metadata": {},
   "source": [
    "Where:\n",
    "- Initial stock price $S_0$: The current price of the underlying stock.\n",
    "- Risk-free interest rate $r$: The annualized risk-free rate (as a decimal, e.g., 0.05 for 5%).\n",
    "- Strike price $K$: The strike price of the call option.\n",
    "- Time to maturity $T$: The time remaining until the option expires, in years.\n",
    "- Volatility $\\sigma\\$: The annualized standard deviation of the stock's returns."
   ]
  },
  {
   "cell_type": "code",
   "execution_count": 3,
   "id": "9ec54994-7d4f-424b-8711-411e6b32c67b",
   "metadata": {
    "scrolled": true
   },
   "outputs": [
    {
     "name": "stdin",
     "output_type": "stream",
     "text": [
      "What is the initial stock price?:  100\n",
      "What is the risk-free interest rate?:  0.05\n",
      "What is the European Call Option Strike Price?:  110\n",
      "What is the time of maturity in years?:  1\n",
      "What is the constant volatility?:  0.2\n"
     ]
    }
   ],
   "source": [
    "S0 = float(input(f\"What is the initial stock price?: \"))\n",
    "r = float(input(f\"What is the risk-free interest rate?: \"))\n",
    "K = float(input(f\"What is the European Call Option Strike Price?: \"))\n",
    "T = float(input(f\"What is the time of maturity in years?: \"))\n",
    "sigma = float(input(f\"What is the constant volatility?: \"))"
   ]
  },
  {
   "cell_type": "markdown",
   "id": "339f6607-fb8e-405b-a566-e0686efdadfe",
   "metadata": {},
   "source": [
    "Then, we are going to define the number of iterations within this project. As to not overhwhelm Python due to NumPy, I will stick to 100,000 iterations. In the raw code, you may choose to modify this as you wish."
   ]
  },
  {
   "cell_type": "code",
   "execution_count": 4,
   "id": "4118b52c-e08f-48c8-a053-842ea1024b07",
   "metadata": {},
   "outputs": [],
   "source": [
    "I = 100000"
   ]
  },
  {
   "cell_type": "markdown",
   "id": "bd53eef4-f767-4cd8-84a8-b2e9892ebc55",
   "metadata": {},
   "source": [
    "We are going to ask Python to generate a random sequence of numbers from the standard normal distribution (curve). These random numbers should be reproducible, hence the \"seed\" NumPy variable."
   ]
  },
  {
   "cell_type": "code",
   "execution_count": 5,
   "id": "5b8b5505-85e5-4fed-9a4b-b379898de1a3",
   "metadata": {},
   "outputs": [],
   "source": [
    "np.random.seed(1000)\n",
    "z = np.random.standard_normal(I)"
   ]
  },
  {
   "cell_type": "markdown",
   "id": "b1ca1ff9-41da-4292-9b96-cdeafc85f54c",
   "metadata": {},
   "source": [
    "Next, we shall apply the Monte Carlo Formula. \n",
    "- There are three formulas used altogether for this simulation. They are as follows:\n",
    "\n",
    "The Simulated Stock Price ($S_T$) Formula:\n",
    "\n",
    "$$\n",
    "S_T = S_0 \\cdot e^{(r - 0.5 \\cdot \\sigma^2) \\cdot T + \\sigma \\cdot \\sqrt{T} \\cdot Z}\n",
    "$$\n",
    "\n",
    "Where:\n",
    "- $S_T$: Simulated stock price at time $T$\n",
    "- $S_0$: Initial stock price (user input)\n",
    "- $r$: Risk-free interest rate (user input)\n",
    "- $\\sigma$: Volatility (user input)\n",
    "- $T$: Time to maturity in years (user input)\n",
    "- $Z$: Random variable drawn from a standard normal distribution\n",
    "\n",
    "---\n",
    "\n",
    "The Payoff Formula:\n",
    "\n",
    "$$\n",
    "h(T) = \\max(S_T - K, 0)\n",
    "$$\n",
    "\n",
    "Where:\n",
    "- $h(T)$: Payoff at time $T$\n",
    "- $S_T$: Simulated stock price at time $T$\n",
    "- $K$: Strike price of the option (user input)\n",
    "\n",
    "---\n",
    "\n",
    "The Call Option Price ($C_0$) Formula:\n",
    "\n",
    "$$\n",
    "C_0 = e^{-r \\cdot T} \\cdot \\text{mean}(h(T))\n",
    "$$\n",
    "\n",
    "Where:\n",
    "- $C_0$: Price of the European Call Option\n",
    "- $r$: Risk-free interest rate (user input)\n",
    "- $T$: Time to maturity in years (user input)\n",
    "- $h(T)$: Payoff at time $T$ (as calculated above)\n",
    "- $\\text{mean}(h(T))$: Average payoff across all Monte Carlo simulations\n",
    "\n",
    "Assumptions: \n",
    "- Can only be used for European Call Options and not American or exotic options\n",
    "- Lognormal distribution: The logarithm of stock prices tends to follow a normal distribution\n",
    "- The greater number of iterations, the more accurate the simulation.\n"
   ]
  },
  {
   "cell_type": "code",
   "execution_count": 6,
   "id": "dd23f261-4a19-4085-a48c-295c419bb43e",
   "metadata": {},
   "outputs": [],
   "source": [
    "ST = S0 * np.exp(r - (0.5 * sigma ** 2) * T + sigma * np.sqrt(T) * z)\n",
    "hT = np.maximum(ST - K, 0)\n",
    "C0 = np.exp(-r * T) * np.mean(hT)"
   ]
  },
  {
   "cell_type": "markdown",
   "id": "c9a6be72-5275-4f52-93ef-dc3711d6aa54",
   "metadata": {},
   "source": [
    "Lastly, we print the value of our European Call Option"
   ]
  },
  {
   "cell_type": "code",
   "execution_count": 7,
   "id": "a810a0ca-7416-4aab-aca3-3ae30b50f5f2",
   "metadata": {},
   "outputs": [
    {
     "name": "stdout",
     "output_type": "stream",
     "text": [
      "The value of your European Call Option is 6.05\n"
     ]
    }
   ],
   "source": [
    "print(f\"The value of your European Call Option is {C0:.2f}\")"
   ]
  }
 ],
 "metadata": {
  "kernelspec": {
   "display_name": "Python 3 (ipykernel)",
   "language": "python",
   "name": "python3"
  },
  "language_info": {
   "codemirror_mode": {
    "name": "ipython",
    "version": 3
   },
   "file_extension": ".py",
   "mimetype": "text/x-python",
   "name": "python",
   "nbconvert_exporter": "python",
   "pygments_lexer": "ipython3",
   "version": "3.13.1"
  }
 },
 "nbformat": 4,
 "nbformat_minor": 5
}
