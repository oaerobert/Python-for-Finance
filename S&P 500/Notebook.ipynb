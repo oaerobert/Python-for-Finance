{
 "cells": [
  {
   "cell_type": "markdown",
   "id": "c55f63ca-9db1-4378-b1f0-5bb1f39e89e5",
   "metadata": {},
   "source": [
    "Import the necessary libraries (Pandas, NumPy and Matplotlib)"
   ]
  },
  {
   "cell_type": "code",
   "execution_count": null,
   "id": "2d40802f-d997-427e-b083-1a38660c7b0d",
   "metadata": {},
   "outputs": [],
   "source": [
    "import numpy as np\n",
    "import pandas as pd\n",
    "import matplotlib.pyplot as plt"
   ]
  },
  {
   "cell_type": "markdown",
   "id": "f2f74d6c-d6b6-4ea0-ba19-c6669a6a2845",
   "metadata": {},
   "source": [
    "We will be using Pandas to enable Python to read the CSV file path (on the S&P 500 data)\n",
    "\n",
    "You can create your own CSV file from downloading stock data from Nasdaq.com, a reputable site to obtain key market metrics. The link is [here](https://www.nasdaq.com/market-activity/index/spx/historical) "
   ]
  },
  {
   "cell_type": "code",
   "execution_count": null,
   "id": "a44c58aa-b6d3-4101-a2db-f1f62338fbc8",
   "metadata": {},
   "outputs": [],
   "source": [
    "data = pd.read_csv(\"INSERT_YOUR_CSV_FILE_PATH_HERE.csv\", index_col=0, parse_dates=True)"
   ]
  },
  {
   "cell_type": "markdown",
   "id": "10fbf882-89b1-4464-9766-488acde44014",
   "metadata": {},
   "source": [
    "The first column is set as the index of the Dataframe (index_col=0). \n",
    "We convert this into a datetime format for time-series (parse_dates=True).\n",
    "\n",
    "If you are plotting line graphs using data from just one column, then you want to frame your data to only obtain values from that one column (e.g. \"Close/Last\" prices). You also want to clean the data up and drop out any missing values."
   ]
  },
  {
   "cell_type": "code",
   "execution_count": null,
   "id": "49d97106-bf6e-4430-8bed-d5eddaa96ce0",
   "metadata": {
    "scrolled": true
   },
   "outputs": [],
   "source": [
    "data = pd.DataFrame(data[\"INSERT_THE_COLUMN_NAME_WITH_THE_NUMERICAL_DATA_HERE\"])\n",
    "data.dropna(inplace=True)"
   ]
  },
  {
   "cell_type": "markdown",
   "id": "cdf16593-61b1-4ad2-b3e9-8b662840bb09",
   "metadata": {},
   "source": [
    "Next, \n",
    "The formula for returns is:\n",
    "\n",
    "$$ \\text{Returns} = \\ln\\left(\\frac{P_t}{P_{t-1}}\\right) $$\n",
    "Where:\n",
    "$$P_t$$ is the current price.  \n",
    "$$P_{t-1}$$ is the Previous price.\n",
    "  \n",
    "and,\n",
    "the formula for rolling volatility is:\n",
    "\n",
    "$$ \\text{Volatility} = \\text{StdDev}(\\text{Returns}, \\text{window}) $$\n",
    "  \n",
    "---\n",
    "\n",
    "If you are using the NasDaq website to obtain your CSV data, this would follow the data used to carry out these formulas would be derived from the \"Close/Last\" column."
   ]
  },
  {
   "cell_type": "code",
   "execution_count": null,
   "id": "bafb82a0-5671-4017-aabe-48c720a9436c",
   "metadata": {},
   "outputs": [],
   "source": [
    "data[\"Returns\"] = np.log(data[\"INSERT_THE_COLUMN_NAME_WITH_THE_NUMERICAL_DATA_HERE\"] / data[\"INSERT_THE_COLUMN_NAME_WITH_THE_NUMERICAL_DATA_HERE\"].shift(1))\n",
    "data[\"Volatility\"] = data[\"Returns\"].rolling(252).std() * np.sqrt(252)"
   ]
  },
  {
   "cell_type": "markdown",
   "id": "fdb2d73c-4ee3-4cf6-b6ad-073626b040ba",
   "metadata": {},
   "source": [
    "Next, we want to adapt the aesthetics of our code. Note, this is interchangable and you can design your visualisations however you see fit. This is simply the most aesthetically pleasing visualisations for me.\n",
    "\n",
    "We are also going to adapt out titles by setting our data plot to a variable, and adapting the variables within the list accordingly."
   ]
  },
  {
   "cell_type": "code",
   "execution_count": null,
   "id": "6ce7921f-75ea-43b6-b6c9-b999e7243a14",
   "metadata": {},
   "outputs": [],
   "source": [
    "plt.style.use(\"seaborn-v0_8-paper\")\n",
    "plt.rc(\"font\", family=\"serif\")\n",
    "ax = data[[\"Close/Last\",\"Volatility\"]].plot(subplots=True, color=[\"Purple\",\"Blue\"])\n",
    "\n",
    "ax[0].set_title(\"S&P 500 Close/Last Prices (GBP)\", fontsize=7.5)\n",
    "ax[1].set_title(\"S&P 500 Rolling Volatility\", fontsize=7.5)\n",
    "ax[1].set_xlabel(\"Year\")"
   ]
  },
  {
   "cell_type": "markdown",
   "id": "3a8e45f0-f039-426a-903e-855149535666",
   "metadata": {},
   "source": [
    "Then, last but not least - visualisation time! You should produce a very nice plot of data!"
   ]
  },
  {
   "cell_type": "code",
   "execution_count": null,
   "id": "8798c319-df83-41cd-9d34-aa3b8bbdf1f3",
   "metadata": {},
   "outputs": [],
   "source": [
    "plt.show()"
   ]
  }
 ],
 "metadata": {
  "kernelspec": {
   "display_name": "Python 3 (ipykernel)",
   "language": "python",
   "name": "python3"
  },
  "language_info": {
   "codemirror_mode": {
    "name": "ipython",
    "version": 3
   },
   "file_extension": ".py",
   "mimetype": "text/x-python",
   "name": "python",
   "nbconvert_exporter": "python",
   "pygments_lexer": "ipython3",
   "version": "3.13.1"
  }
 },
 "nbformat": 4,
 "nbformat_minor": 5
}
